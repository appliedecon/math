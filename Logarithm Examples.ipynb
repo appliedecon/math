{
 "cells": [
  {
   "cell_type": "markdown",
   "metadata": {},
   "source": [
    "## Logarithms\n",
    "\n",
    "Key Formulas:\n",
    "\n",
    "$$log_{p}x=k$$\n",
    "\n",
    "$$p^{k}=x$$\n",
    "\n",
    "Remember: $x \\gt 0$, so something like $log_{2}(0)$ or $log_{2}(-1)$ isn't defined and is a good way to identity where the asymptote is. The asymptote occurs when $x$ in $log_{p}(x)$ is 0.\n",
    "\n",
    "Identity Law:\n",
    "$$log_{x}x = 1$$\n"
   ]
  },
  {
   "cell_type": "markdown",
   "metadata": {},
   "source": [
    "## Most Common Example\n",
    "$$f(x)=log_{10}(x)$$\n",
    "\n",
    "Recall: $$log_x{x} = 1$$ Then: $$log_{10}10 = 1$$\n",
    "So we know when $x = 10$, $y = 1$\n",
    "\n",
    "The asymptote occurs at 0 in this case --> when $x = 0$ then $y \\to -\\infty$\n"
   ]
  },
  {
   "cell_type": "code",
   "execution_count": 14,
   "metadata": {
    "collapsed": false
   },
   "outputs": [
    {
     "name": "stdout",
     "output_type": "stream",
     "text": [
      "x = 0.0, y = -3.0\n",
      "x = 0.01, y = -2.0\n",
      "x = 0.1, y = -1.0\n",
      "x = 1.0, y = 0.0\n",
      "x = 2.0, y = 0.301\n",
      "x = 3.0, y = 0.477\n",
      "x = 4.0, y = 0.602\n",
      "x = 5.0, y = 0.699\n",
      "x = 6.0, y = 0.778\n",
      "x = 7.0, y = 0.845\n",
      "x = 8.0, y = 0.903\n",
      "x = 9.0, y = 0.954\n",
      "x = 10.0, y = 1.0\n"
     ]
    }
   ],
   "source": [
    "import numpy as np\n",
    "x = np.array([0.001, 0.01, 0.1, 1, 2, 3, 4, 5, 6, 7, 8, 9, 10])\n",
    "import warnings\n",
    "warnings.filterwarnings(\"ignore\")\n",
    "y = np.log10(x)\n",
    "\n",
    "for i in range(len(x)):\n",
    "    print('x = ' + str(np.round(x[i],2)) + ', y = ' + str(np.round(y[i],3)))"
   ]
  },
  {
   "cell_type": "code",
   "execution_count": 15,
   "metadata": {
    "collapsed": false
   },
   "outputs": [
    {
     "data": {
      "image/png": "[encoded data removed]",
      "text/plain": [
       "<matplotlib.figure.Figure at 0x1e660ac4940>"
      ]
     },
     "metadata": {},
     "output_type": "display_data"
    }
   ],
   "source": [
    "%matplotlib inline\n",
    "import matplotlib.pyplot as plt\n",
    "plt.plot(x,y)\n",
    "plt.axhline(y=0)\n",
    "plt.show()"
   ]
  },
  {
   "cell_type": "markdown",
   "metadata": {},
   "source": [
    "In the above chart, we see that when $x = 0$, then $y$ dives towards $-\\infty$."
   ]
  },
  {
   "cell_type": "markdown",
   "metadata": {},
   "source": [
    "### Example:\n",
    "$$f(x) = log_{2}(x-1) - 2$$\n",
    "\n",
    "Remember -- Key Formulas:\n",
    "\n",
    "$$log_{p}x=k$$\n",
    "\n",
    "$$p^{k}=x$$\n",
    "\n"
   ]
  },
  {
   "cell_type": "markdown",
   "metadata": {},
   "source": [
    "The asymptote will occur at $x = 0$ because we are solving $x - 1 = 0$"
   ]
  },
  {
   "cell_type": "markdown",
   "metadata": {},
   "source": [
    "We can figure out easy points using $p^{k} = x$\n",
    "\n",
    "$2^{k} = x - 1$\n",
    "\n",
    "When $x = 1$:\n",
    "$2^{k} = 1 - 1 = 0$ (asymptote)\n",
    "\n",
    "When $x = 2$:\n",
    "$2^{k} = 2 - 1 = 1$ $\\to$ $2^{k} = 1 \\to k = 0$ Remember to $-2$ to find $y$, so we have: {$2,-2$}\n",
    "\n",
    "When $x = 5$:\n",
    "$2^{k} = 5 - 1 = 1$ $\\to$ $2^{k} = 4 \\to k = 2$ Remember to $-2$ to find $y$, so we have: {$5,0$}\n",
    "\n",
    "When $x = 9$:\n",
    "$2^{k} = 9 - 1 = 1$ $\\to$ $2^{k} = 8 \\to k = 3$ Remember to $-2$ to find $y$, so we have: {$9,1$}\n"
   ]
  },
  {
   "cell_type": "code",
   "execution_count": 16,
   "metadata": {
    "collapsed": false
   },
   "outputs": [
    {
     "name": "stdout",
     "output_type": "stream",
     "text": [
      "x = 1.01, y = -8.64385618977\n",
      "x = 1.1, y = -5.32192809489\n",
      "x = 1.5, y = -3.0\n",
      "x = 2.0, y = -2.0\n",
      "x = 4.0, y = -0.415037499279\n",
      "x = 5.0, y = 0.0\n",
      "x = 7.0, y = 0.584962500721\n",
      "x = 9.0, y = 1.0\n"
     ]
    }
   ],
   "source": [
    "x1 = np.array([1.01, 1.1, 1.5, 2, 4, 5, 7, 9])\n",
    "y1 = np.log2(x1 - 1) - 2\n",
    "for i in range(len(x1)):\n",
    "    print('x = ' + str(x1[i]) + ', y = ' + str(y1[i]))"
   ]
  },
  {
   "cell_type": "code",
   "execution_count": 17,
   "metadata": {
    "collapsed": false
   },
   "outputs": [
    {
     "data": {
      "image/png": "[encoded data removed]",
      "text/plain": [
       "<matplotlib.figure.Figure at 0x1e661036e80>"
      ]
     },
     "metadata": {},
     "output_type": "display_data"
    }
   ],
   "source": [
    "plt.plot(x1,y1)\n",
    "plt.axhline(y=0)\n",
    "plt.show()"
   ]
  },
  {
   "cell_type": "markdown",
   "metadata": {},
   "source": [
    "In the above chart, we see that when $x = 1$, then $y$ dives towards $-\\infty$."
   ]
  },
  {
   "cell_type": "markdown",
   "metadata": {},
   "source": [
    "## Example\n",
    "\n",
    "$$f(x) = 2^{x-1} + 3$$"
   ]
  },
  {
   "cell_type": "markdown",
   "metadata": {
    "collapsed": true
   },
   "source": [
    "We can't raise anything to a negative power, so $x-1 \\ge 0$, so $x \\ge 1$ in this case.\n",
    "\n",
    "When $x = 1$: $2^{1-1} + 3 = 2^{0} + 3 = 1 + 3 = 4$, so we have {$x = 1, y = 4$}\n",
    "\n",
    "When $x = 2$: $2^{2-1} + 3 = 2^{1} + 3 = 2 + 3 = 5$, so we have {$x = 2, y = 5$}\n",
    "\n",
    "When $x = 3$: $2^{3-1} + 3 = 2^{2} + 3 = 4 + 3 = 7$, so we have {$x = 3, y = 7$}\n",
    "\n",
    "When $x = 4$: $2^{4-1} + 3 = 2^{3} + 3 = 8 + 3 = 11$, so we have {$x = 4, y = 11$}\n",
    "\n",
    "\n"
   ]
  },
  {
   "cell_type": "code",
   "execution_count": 18,
   "metadata": {
    "collapsed": false
   },
   "outputs": [
    {
     "data": {
      "text/plain": [
       "[<matplotlib.lines.Line2D at 0x1e660ba3ac8>]"
      ]
     },
     "execution_count": 18,
     "metadata": {},
     "output_type": "execute_result"
    },
    {
     "data": {
      "image/png": "[encoded data removed]",
      "text/plain": [
       "<matplotlib.figure.Figure at 0x1e660d76240>"
      ]
     },
     "metadata": {},
     "output_type": "display_data"
    }
   ],
   "source": [
    "x = np.array([1, 1.0001, 1.01, 1, 1.4, 2, 2.4, 3, 4, 5, 6])\n",
    "y = np.power(2, x-1) + 3\n",
    "plt.plot(x,y)"
   ]
  },
  {
   "cell_type": "markdown",
   "metadata": {},
   "source": [
    "Normally this function would start at $x = 0$, but the $x-1$ shifts the function to the right.\n",
    "\n",
    "#### Remember this type of operation, e.g. $x -1$, shifts the function in the opposite direction. This is because the entire quantity needs to equal for the asymptote.\n",
    "$x - 1$ shifts to the right, so it starts at $x = 1$\n",
    "\n",
    "$x + 1$ would shift to the left, so it would start at $x = -1$"
   ]
  },
  {
   "cell_type": "markdown",
   "metadata": {},
   "source": [
    "## Example\n",
    "\n",
    "$$ f(x) = 2log_{2}(x + 3) - 4$$\n",
    "\n",
    "This type of function is going to do a couple of things. The function itself will be shifted to the left because of the $x + 3$, the slope of the curve will double because the $log(x)$ portion is being multiplied by 2, finally the y-part will be shifted down by 4 units.\n",
    "\n",
    "Remember to break things into pieces. We can determine the asymptote using: $p^k = x$, and then multiply the results by 2 and then subtract off 4.\n",
    "\n",
    "We know the asymptote will be at $x = -3$, since $-3 + 3 = 0$.\n",
    "\n",
    "When $x = -3$: asymptote\n",
    "\n",
    "when $x = -2$: $2^k = x + 3 \\to 2^k = -2 + 3 \\to 2^k = 1$, so $k = 0$. Then $2*0 - 4 = -4$, so {$x=-2, y=-4$}\n",
    "\n",
    "when $x = -1$: $2^k = x + 3 \\to 2^k = -1 + 3 \\to 2^k = 2$, so $k = 1$. Then $2*1 - 4 = -2$, so {$x=-1, y=-2$}\n",
    "\n",
    "when $x = 1$: $2^k = x + 3 \\to 2^k = 1 + 3 \\to 2^k = 4$, so $k = 2$. Then $2*2 - 4 = 0$, so {$x=1, y=0$}\n",
    "\n",
    "when $x = 5$: $2^k = x + 3 \\to 2^k = 5 + 3 \\to 2^k = 8$, so $k = 3$. Then $2*3 - 4 = 2$, so {$x=5, y=2$}\n"
   ]
  },
  {
   "cell_type": "code",
   "execution_count": 19,
   "metadata": {
    "collapsed": false
   },
   "outputs": [
    {
     "data": {
      "image/png": "[encoded data removed]",
      "text/plain": [
       "<matplotlib.figure.Figure at 0x1e660b42ba8>"
      ]
     },
     "metadata": {},
     "output_type": "display_data"
    }
   ],
   "source": [
    "x2 = np.array([-2.99, -2.5, -2, -1, 0, 1, 2, 3, 4, 5])\n",
    "y2 = 2 * np.log2(x2+3) - 4\n",
    "plt.plot(x2, y2)\n",
    "plt.axhline(y=0)\n",
    "plt.show()"
   ]
  },
  {
   "cell_type": "markdown",
   "metadata": {},
   "source": [
    "### Let's compare the above to a couple other variations to see how the curve changes:\n",
    "\n",
    "$$ f(x) = 2log_{2}(x + 3) - 4$$\n",
    "\n",
    "$$ f(x) = log_{2}(x + 3) - 4$$\n",
    "\n",
    "$$ f(x) = 2log_{2}(x) - 4$$\n",
    "\n",
    "$$ f(x) = 2log_{2}(x + 3)$$"
   ]
  },
  {
   "cell_type": "code",
   "execution_count": 20,
   "metadata": {
    "collapsed": false
   },
   "outputs": [
    {
     "data": {
      "text/plain": [
       "<matplotlib.legend.Legend at 0x1e660b490b8>"
      ]
     },
     "execution_count": 20,
     "metadata": {},
     "output_type": "execute_result"
    },
    {
     "data": {
      "image/png": "[encoded data removed]",
      "text/plain": [
       "<matplotlib.figure.Figure at 0x1e660b49668>"
      ]
     },
     "metadata": {},
     "output_type": "display_data"
    }
   ],
   "source": [
    "x = np.array([-2.9, -2.5, -2, -1.5, -1, -0.5, 0, 0.1, 1, 2, 3, 4, 5, 6, 7, 8])\n",
    "y1 = 2 * np.log2(x+3) - 4\n",
    "y2 = np.log2(x +3) - 4\n",
    "y3 = 2 * np.log2(x) - 4\n",
    "y4 = 2 * np.log2(x + 3)\n",
    "\n",
    "plt.plot(x, y1, x, y2, x, y3, x, y4)\n",
    "plt.legend(['2log(x+3)-4','log(x+3)-4','2log(x)-4','2log(x+3)'])"
   ]
  },
  {
   "cell_type": "markdown",
   "metadata": {},
   "source": [
    "Blue Line: $$ f(x) = 2log_{2}(x + 3) - 4$$\n",
    "\n",
    "Orange Line: $$ f(x) = log_{2}(x + 3) - 4$$\n",
    "\n",
    "Green Line: $$ f(x) = 2log_{2}(x) - 4$$\n",
    "\n",
    "Red Line: $$ f(x) = 2log_{2}(x + 3)$$\n",
    "\n",
    "Blue vs. Orange: Difference is the slope is 2x higher for the blue line. Asymptote hasn't changed.\n",
    "\n",
    "Blue vs. Green: Asymptote is shifted over by 3.\n",
    "\n",
    "Blue vs. Red: Red is shifted up by 4 units."
   ]
  },
  {
   "cell_type": "markdown",
   "metadata": {},
   "source": [
    "## Example\n",
    "\n",
    "$$f(x) = log_2{2x}$$\n",
    "\n",
    "There is a rule for logrithms that allow us to modify this to $f(x) = log_2{2} + log_2{x} = 1 + log_2{x}$\n",
    "\n",
    "This looks more familiar and is easy to tackle.\n",
    "\n",
    "The asymptote will occur at $x = 0$.\n",
    "\n",
    "When $x = 2$, then $2^k = 2 \\to k = 1$ so {$x=2, y=1+1=2$}\n",
    "\n",
    "When $x = 4$, then $2^k = 4 \\to k = 2$ so {$x=4, y=2+1=3$}\n",
    "\n",
    "When $x = 8$, then $2^k = 8 \\to k = 3$ so {$x=8, y=3+1=4$}\n",
    "\n",
    "\n"
   ]
  },
  {
   "cell_type": "code",
   "execution_count": 21,
   "metadata": {
    "collapsed": false
   },
   "outputs": [
    {
     "data": {
      "image/png": "[encoded data removed]",
      "text/plain": [
       "<matplotlib.figure.Figure at 0x1e66109ecf8>"
      ]
     },
     "metadata": {},
     "output_type": "display_data"
    }
   ],
   "source": [
    "x3 = np.array([0.01, 0.1, 1, 1.5, 2, 2.5, 3, 3.5, 4, 5, 6, 7, 8])\n",
    "y3 = np.log2(x3 * 2)\n",
    "\n",
    "plt.plot(x3, y3)\n",
    "plt.axhline(y=0)\n",
    "plt.show()"
   ]
  }
 ],
 "metadata": {
  "kernelspec": {
   "display_name": "Python 3",
   "language": "python",
   "name": "python3"
  },
  "language_info": {
   "codemirror_mode": {
    "name": "ipython",
    "version": 3
   },
   "file_extension": ".py",
   "mimetype": "text/x-python",
   "name": "python",
   "nbconvert_exporter": "python",
   "pygments_lexer": "ipython3",
   "version": "3.6.0"
  }
 },
 "nbformat": 4,
 "nbformat_minor": 2
}
